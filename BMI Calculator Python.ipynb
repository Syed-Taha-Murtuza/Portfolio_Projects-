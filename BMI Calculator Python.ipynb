{
 "cells": [
  {
   "cell_type": "code",
   "execution_count": 1,
   "id": "2d01359a",
   "metadata": {},
   "outputs": [
    {
     "name": "stdout",
     "output_type": "stream",
     "text": [
      "Your Name: taha\n",
      "Your Weight in pounds: 176\n",
      "Your Height in inches: 70\n",
      "25.250612244897958\n",
      "taha, you are overweight. \n"
     ]
    }
   ],
   "source": [
    "name = input('Your Name: ')\n",
    "weight = int(input('Your Weight in pounds: '))\n",
    "height = int(input ('Your Height in inches: '))\n",
    "BMI = (weight * 703) / (height * height )\n",
    "print(BMI)\n",
    "if BMI>0:\n",
    "    if (BMI<18.5):\n",
    "        print(name +', you are underweight. ')\n",
    "    elif (BMI<=24.9):\n",
    "        print(name +', you are normal weight. ')\n",
    "    elif (BMI<29.9):\n",
    "        print(name +', you are overweight. ')\n",
    "    elif (BMI<34.9):\n",
    "        print(name +', you are Obese. ')\n",
    "    elif (BMI<39.9):\n",
    "        print(name +', you are severely obese. ')\n",
    "    else:\n",
    "        print(name +', you are morbidly obese.')\n",
    "else:\n",
    "        print('Enter Valid Input.')\n"
   ]
  },
  {
   "cell_type": "code",
   "execution_count": null,
   "id": "845e4494",
   "metadata": {},
   "outputs": [],
   "source": []
  },
  {
   "cell_type": "code",
   "execution_count": null,
   "id": "038f185b",
   "metadata": {},
   "outputs": [],
   "source": [
    "\n"
   ]
  },
  {
   "cell_type": "code",
   "execution_count": null,
   "id": "81744b76",
   "metadata": {},
   "outputs": [],
   "source": []
  },
  {
   "cell_type": "code",
   "execution_count": null,
   "id": "958bb30f",
   "metadata": {},
   "outputs": [],
   "source": []
  },
  {
   "cell_type": "code",
   "execution_count": null,
   "id": "321f6673",
   "metadata": {},
   "outputs": [],
   "source": []
  },
  {
   "cell_type": "code",
   "execution_count": null,
   "id": "160c42e8",
   "metadata": {},
   "outputs": [],
   "source": []
  },
  {
   "cell_type": "code",
   "execution_count": null,
   "id": "8f8e0fe0",
   "metadata": {},
   "outputs": [],
   "source": [
    "#BMI = (weight in pounds x 703) / (height in inches x height in inches)"
   ]
  },
  {
   "cell_type": "code",
   "execution_count": null,
   "id": "d86d1a51",
   "metadata": {},
   "outputs": [],
   "source": [
    "Under 18.5\tUnderweight\tMinimal\n",
    "18.5 - 24.9\tNormal Weight\tMinimal\n",
    "25 - 29.9\tOverweight\tIncreased\n",
    "30 - 34.9\tObese\tHigh\n",
    "35 - 39.9\tSeverely Obese\tVery High\n",
    "40 and over\tMorbidly Obese\tExtremely High"
   ]
  },
  {
   "cell_type": "code",
   "execution_count": null,
   "id": "b89185f8",
   "metadata": {},
   "outputs": [],
   "source": []
  }
 ],
 "metadata": {
  "kernelspec": {
   "display_name": "Python 3 (ipykernel)",
   "language": "python",
   "name": "python3"
  },
  "language_info": {
   "codemirror_mode": {
    "name": "ipython",
    "version": 3
   },
   "file_extension": ".py",
   "mimetype": "text/x-python",
   "name": "python",
   "nbconvert_exporter": "python",
   "pygments_lexer": "ipython3",
   "version": "3.11.5"
  }
 },
 "nbformat": 4,
 "nbformat_minor": 5
}
